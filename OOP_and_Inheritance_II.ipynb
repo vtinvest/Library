{
  "cells": [
    {
      "cell_type": "markdown",
      "metadata": {
        "id": "view-in-github",
        "colab_type": "text"
      },
      "source": [
        "<a href=\"https://colab.research.google.com/github/vtinvest/Library/blob/main/OOP_and_Inheritance_II.ipynb\" target=\"_parent\"><img src=\"https://colab.research.google.com/assets/colab-badge.svg\" alt=\"Open In Colab\"/></a>"
      ]
    },
    {
      "cell_type": "markdown",
      "metadata": {
        "id": "nNQd4AVPZXPc"
      },
      "source": [
        "<p><a name=\"class\"></a></p>\n",
        "\n",
        "# Classes\n",
        "\n",
        "- Classes are a method of organizing code. The idea is common to virtually all programming languages designed in the past thirty years, including Java, C++, JavaScript, Scala, etc.\n",
        "- Classes are closely tied to objects.  A class is a syntactic construct that acts as a template for objects.\n",
        " - We first write a class.\n",
        " - Then we create objects according to the template provided by that class.  These are called “objects” or “instances” of the class.\n",
        "- Understanding what classes are, when to use them, and how to use them can be useful. In the process, we'll learn the meaning of the term Object-Oriented Programming.\n",
        "\n",
        "**Objects**\n",
        "- “Everything is an object”\n",
        "- In Python, every value - integer, string, list, tuple even a function - is an object.\n",
        "- By defining classes, you can in effect define your own type of data.  You can even define infix operators (like +) in your class.\n",
        "- You can find the class of which an object is an instance by using the type function:"
      ]
    },
    {
      "cell_type": "code",
      "execution_count": null,
      "metadata": {
        "collapsed": true,
        "id": "YVswZRTUZXPc",
        "colab": {
          "base_uri": "https://localhost:8080/"
        },
        "outputId": "00070de8-cec5-45fd-acab-2ce3c505f3da"
      },
      "outputs": [
        {
          "output_type": "execute_result",
          "data": {
            "text/plain": [
              "set"
            ]
          },
          "metadata": {},
          "execution_count": 1
        }
      ],
      "source": [
        "s = set([1,2,3])\n",
        "type(s)"
      ]
    },
    {
      "cell_type": "code",
      "execution_count": null,
      "metadata": {
        "collapsed": true,
        "id": "IUsMxzdZZXPc",
        "colab": {
          "base_uri": "https://localhost:8080/"
        },
        "outputId": "3faebcd3-8be3-4725-aaba-9d0266ff79e4"
      },
      "outputs": [
        {
          "output_type": "execute_result",
          "data": {
            "text/plain": [
              "int"
            ]
          },
          "metadata": {},
          "execution_count": 2
        }
      ],
      "source": [
        "type(3)"
      ]
    },
    {
      "cell_type": "code",
      "execution_count": null,
      "metadata": {
        "collapsed": true,
        "id": "-W98Q9GIZXPc",
        "colab": {
          "base_uri": "https://localhost:8080/"
        },
        "outputId": "8aba0422-c953-461f-d3dd-9179c5fc5f4c"
      },
      "outputs": [
        {
          "output_type": "execute_result",
          "data": {
            "text/plain": [
              "dict"
            ]
          },
          "metadata": {},
          "execution_count": 3
        }
      ],
      "source": [
        "type({'key':2})"
      ]
    },
    {
      "cell_type": "markdown",
      "source": [
        "- An object is a collection of values together with functions that can access those values.\n",
        " - The values have names and are called attributes.\n",
        " - The functions are called methods."
      ],
      "metadata": {
        "id": "k6FBj5HlP2lS"
      }
    },
    {
      "cell_type": "code",
      "source": [
        "L = [1,2,3]"
      ],
      "metadata": {
        "id": "c2bsqapyP4V3"
      },
      "execution_count": null,
      "outputs": []
    },
    {
      "cell_type": "code",
      "source": [
        "L"
      ],
      "metadata": {
        "id": "mhVuyae_R-P1"
      },
      "execution_count": null,
      "outputs": []
    },
    {
      "cell_type": "markdown",
      "metadata": {
        "id": "PTrRyMzyZXPd"
      },
      "source": [
        "- Together, the values represent some object and the methods are the operations you can perform on those objects. For example:\n",
        " - a Library object would be represented by two lists: all the books it has, and the ones that are checked out.  The methods would include `check_out_book(book)` and `return_book(book)`.\n",
        " - a Car object would be represented by the `brand`, `model`, `color`, and `year`. The method would include `accelerate`, `brake`, `turn left/right`, and `back up`.\n"
      ]
    },
    {
      "cell_type": "markdown",
      "metadata": {
        "id": "Nr2kVxFpZXPd"
      },
      "source": [
        "<p><a name=\"attri\"></a></p>\n",
        "\n",
        "## Attributes and Methods\n",
        "\n",
        "- We’ll go into details in a bit, but here is the syntax to define a simple class:\n",
        "\n",
        "```\n",
        "class Classname(object):\n",
        "    def __init__(self):\n",
        "        initialize representation by assigning to variables\n",
        "\n",
        "    def methodname(self, ...args...):\n",
        "        define method; \n",
        "        change representation or return value or both; \n",
        "        use self.var to refer to variable var defined in init.\n",
        "```\n",
        "\n",
        "- In `__init__`, we assign the desired representation to one or more variables, so we just have to decide what their names will be.\n",
        "\n",
        "- Once we have this class, we can create instances of it:\n",
        "\n",
        "```\n",
        "newobj = Classname()\n",
        "```\n",
        "\n",
        "- We invoke methods using object notation:\n",
        "\n",
        "```\n",
        "newobj.methodname(...args...)\n",
        "```\n",
        "- Note that even though we defined the method using ordinary function definition syntax, we must call it using object syntax.  That is just because it is defined inside a class."
      ]
    },
    {
      "cell_type": "markdown",
      "metadata": {
        "id": "I_npt6lYZXPf"
      },
      "source": [
        "- We’re now going to go into more detail.  As our example, we’ll define a class Vector representing vectors in an n-dimensional space.\n",
        "- We will start out with simple operations:  initialize a vector with a list of numbers; calculate the length of the vector in Euclidean space.\n",
        "```\n",
        "vec_1 = Vector([1,2,3])\n",
        "vec_1.length() ---> 3.74165738677\n",
        "```\n",
        "\n",
        "- After that, we will introduce ways to print elements, add two vectors, and other operations.\n",
        "\n",
        "Here is how to initialize an object with an argument:"
      ]
    },
    {
      "cell_type": "code",
      "execution_count": null,
      "metadata": {
        "collapsed": true,
        "id": "0Kq4P84IZXPf"
      },
      "outputs": [],
      "source": [
        "class Vector(object):\n",
        "    def __init__(self, list_):\n",
        "        self.coords = list_"
      ]
    },
    {
      "cell_type": "markdown",
      "metadata": {
        "id": "ZacrudQnZXPg"
      },
      "source": [
        "- `__init__()` always takes at least one argument, `self`, that refers to the object being created.  Variables of the form `self.name` constitute the attributes of the object, i.e. its representation. In this case, the representation is a list, self.coords.\n",
        "\n",
        "- When creating an instance of the class `Vector`, the `__init__()` method is invoked. It initializes the coords attribute of that instance. "
      ]
    },
    {
      "cell_type": "markdown",
      "metadata": {
        "id": "QYJ3p4ZmZXPg"
      },
      "source": [
        "We can add methods to classes. For example, if we want to calculate the length of a vector, we can add:"
      ]
    },
    {
      "cell_type": "code",
      "execution_count": null,
      "metadata": {
        "collapsed": true,
        "id": "eUeb5s98ZXPg"
      },
      "outputs": [],
      "source": [
        "class Vector(object):\n",
        "\n",
        "    def __init__(self, list_):\n",
        "        self.coords = list_\n",
        "\n",
        "    def length(self):\n",
        "        return sum([x**2 for x in self.coords])**.5"
      ]
    },
    {
      "cell_type": "markdown",
      "metadata": {
        "id": "lqus8nyBZXPh"
      },
      "source": [
        "- When `length()` is invoked as “`v.length()`”, the instance `v` becomes the parameter self.  Then self.coords is used to refer to the coords attribute of the instance.\n",
        "- As noted earlier, we can create an instance of `Vector` and access its method using dot notation.  We can also look at its attribute:"
      ]
    },
    {
      "cell_type": "code",
      "execution_count": null,
      "metadata": {
        "collapsed": true,
        "colab": {
          "base_uri": "https://localhost:8080/"
        },
        "id": "MUXNNaSOZXPh",
        "outputId": "3602e960-0d9c-49f5-dd2f-03e5b4b44dba"
      },
      "outputs": [
        {
          "output_type": "stream",
          "name": "stdout",
          "text": [
            "[1, 2, 3]\n",
            "3.7416573867739413\n"
          ]
        }
      ],
      "source": [
        "vec_1 = Vector([1,2,3])\n",
        "print(vec_1.coords)\n",
        "print(vec_1.length())"
      ]
    },
    {
      "cell_type": "markdown",
      "metadata": {
        "id": "Rs506kkGZXPh"
      },
      "source": [
        "- Whenever we assign or retrieve any object attribute like `coords`, as shown above, Python searches it in the object's `__dict__` dictionary.\n",
        "- Therefore, `vec1.coords` internally becomes `vec1.__dict__['coords']`"
      ]
    },
    {
      "cell_type": "code",
      "execution_count": null,
      "metadata": {
        "collapsed": true,
        "colab": {
          "base_uri": "https://localhost:8080/"
        },
        "id": "oRdvcD9JZXPh",
        "outputId": "9fb9ce0e-7480-4a3e-e0a7-214fb96f3447"
      },
      "outputs": [
        {
          "output_type": "execute_result",
          "data": {
            "text/plain": [
              "{'coords': [1, 2, 3]}"
            ]
          },
          "metadata": {},
          "execution_count": 8
        }
      ],
      "source": [
        "vec_1.__dict__"
      ]
    },
    {
      "cell_type": "code",
      "source": [
        "dir(vec_1)"
      ],
      "metadata": {
        "colab": {
          "base_uri": "https://localhost:8080/"
        },
        "id": "BtU0IHJtFhdc",
        "outputId": "efdc2882-61f7-4729-8858-7d7d72e83daf"
      },
      "execution_count": null,
      "outputs": [
        {
          "output_type": "execute_result",
          "data": {
            "text/plain": [
              "['__class__',\n",
              " '__delattr__',\n",
              " '__dict__',\n",
              " '__dir__',\n",
              " '__doc__',\n",
              " '__eq__',\n",
              " '__format__',\n",
              " '__ge__',\n",
              " '__getattribute__',\n",
              " '__gt__',\n",
              " '__hash__',\n",
              " '__init__',\n",
              " '__init_subclass__',\n",
              " '__le__',\n",
              " '__lt__',\n",
              " '__module__',\n",
              " '__ne__',\n",
              " '__new__',\n",
              " '__reduce__',\n",
              " '__reduce_ex__',\n",
              " '__repr__',\n",
              " '__setattr__',\n",
              " '__sizeof__',\n",
              " '__str__',\n",
              " '__subclasshook__',\n",
              " '__weakref__',\n",
              " 'coords',\n",
              " 'length']"
            ]
          },
          "metadata": {},
          "execution_count": 10
        }
      ]
    },
    {
      "cell_type": "code",
      "source": [
        "vec_1"
      ],
      "metadata": {
        "id": "yC5SpHRi0d7W",
        "colab": {
          "base_uri": "https://localhost:8080/"
        },
        "outputId": "3226dfc0-c2f1-42d4-b8d0-8822ca8e5cd7"
      },
      "execution_count": null,
      "outputs": [
        {
          "output_type": "execute_result",
          "data": {
            "text/plain": [
              "<__main__.Vector at 0x7f3be90e1690>"
            ]
          },
          "metadata": {},
          "execution_count": 9
        }
      ]
    },
    {
      "cell_type": "markdown",
      "metadata": {
        "id": "g0YcjDRnZXPi"
      },
      "source": [
        "- People with C++ or Java backgrounds might argue that where is the [encapsulation](https://stackoverflow.com/a/23032098)?! \n",
        "- The basic idea of encapsulation is to hide unnecessary attributes from the user by making them private.\n",
        "- However, in Python, there is an attribute naming convention to denote private attributes by prefixing the attribute with one or two underscores, e.g:\n",
        "\n",
        "```python\n",
        "self._coords\n",
        "self.__coords\n",
        "```\n",
        "\n",
        "- A single underscore indicates to the user of a class that an attribute should be considered private to the class, and should not be accessed directly.\n",
        "\n",
        "- A double underscore indicates the same, however, Python will mangle the attribute name somewhat to attempt to hide it."
      ]
    },
    {
      "cell_type": "code",
      "execution_count": null,
      "metadata": {
        "collapsed": true,
        "id": "QKZDOS5aZXPi"
      },
      "outputs": [],
      "source": [
        "class Vector(object):\n",
        "    def __init__(self, list_):\n",
        "        self._coords = list_\n",
        "        self.__coords = list_\n",
        "\n",
        "    def length(self):\n",
        "        return sum([x**2 for x in self.__coords])**.5"
      ]
    },
    {
      "cell_type": "code",
      "execution_count": null,
      "metadata": {
        "collapsed": true,
        "colab": {
          "base_uri": "https://localhost:8080/",
          "height": 201
        },
        "id": "1WKrN5WcZXPi",
        "outputId": "4153a695-051c-4ceb-f017-f8dbc9ec2b52"
      },
      "outputs": [
        {
          "output_type": "error",
          "ename": "AttributeError",
          "evalue": "ignored",
          "traceback": [
            "\u001b[0;31m---------------------------------------------------------------------------\u001b[0m",
            "\u001b[0;31mAttributeError\u001b[0m                            Traceback (most recent call last)",
            "\u001b[0;32m<ipython-input-12-469d208fd384>\u001b[0m in \u001b[0;36m<cell line: 3>\u001b[0;34m()\u001b[0m\n\u001b[1;32m      1\u001b[0m \u001b[0;31m# You can't call coords attribute directly anymore.\u001b[0m\u001b[0;34m\u001b[0m\u001b[0;34m\u001b[0m\u001b[0m\n\u001b[1;32m      2\u001b[0m \u001b[0mvec_1\u001b[0m \u001b[0;34m=\u001b[0m \u001b[0mVector\u001b[0m\u001b[0;34m(\u001b[0m\u001b[0;34m[\u001b[0m\u001b[0;36m1\u001b[0m\u001b[0;34m,\u001b[0m\u001b[0;36m2\u001b[0m\u001b[0;34m,\u001b[0m\u001b[0;36m3\u001b[0m\u001b[0;34m]\u001b[0m\u001b[0;34m)\u001b[0m\u001b[0;34m\u001b[0m\u001b[0;34m\u001b[0m\u001b[0m\n\u001b[0;32m----> 3\u001b[0;31m \u001b[0mprint\u001b[0m\u001b[0;34m(\u001b[0m\u001b[0mvec_1\u001b[0m\u001b[0;34m.\u001b[0m\u001b[0mcoords\u001b[0m\u001b[0;34m)\u001b[0m\u001b[0;34m\u001b[0m\u001b[0;34m\u001b[0m\u001b[0m\n\u001b[0m",
            "\u001b[0;31mAttributeError\u001b[0m: 'Vector' object has no attribute 'coords'"
          ]
        }
      ],
      "source": [
        "# You can't call coords attribute directly anymore.\n",
        "vec_1 = Vector([1,2,3])\n",
        "print(vec_1.coords)"
      ]
    },
    {
      "cell_type": "code",
      "source": [
        "vec_1.__dict__"
      ],
      "metadata": {
        "colab": {
          "base_uri": "https://localhost:8080/"
        },
        "id": "HDLyevCnGg3-",
        "outputId": "591b5f5b-5ad3-44f5-98c1-016670222bb5"
      },
      "execution_count": null,
      "outputs": [
        {
          "output_type": "execute_result",
          "data": {
            "text/plain": [
              "{'_coords': [1, 2, 3], '_Vector__coords': [1, 2, 3]}"
            ]
          },
          "metadata": {},
          "execution_count": 13
        }
      ]
    },
    {
      "cell_type": "markdown",
      "metadata": {
        "id": "dERgv0vbZXPi"
      },
      "source": [
        "- Though we are calling them private attributes, we can still access them outside the class, with a different syntax. There is no real private variable/method in Python because [\"We're all consenting adults here.\"](https://mail.python.org/pipermail/tutor/2003-October/025932.html) \n",
        "- The underscore here is basically telling the user to \"use at your own risk\"."
      ]
    },
    {
      "cell_type": "code",
      "execution_count": null,
      "metadata": {
        "collapsed": true,
        "colab": {
          "base_uri": "https://localhost:8080/"
        },
        "id": "CBgEYr6HZXPj",
        "outputId": "71375179-bef1-41fa-dcaf-93fc3554e948"
      },
      "outputs": [
        {
          "output_type": "stream",
          "name": "stdout",
          "text": [
            "[1, 2, 3]\n"
          ]
        }
      ],
      "source": [
        "# Call the attribute with one underscore\n",
        "print(vec_1._coords)"
      ]
    },
    {
      "cell_type": "code",
      "execution_count": null,
      "metadata": {
        "collapsed": true,
        "colab": {
          "base_uri": "https://localhost:8080/"
        },
        "id": "rJNXw0VmZXPj",
        "outputId": "d6d4fa03-68fd-4635-df44-9d5266b3ee38"
      },
      "outputs": [
        {
          "output_type": "stream",
          "name": "stdout",
          "text": [
            "[1, 2, 3]\n"
          ]
        }
      ],
      "source": [
        "# Call the attribute with two underscores\n",
        "print(vec_1._Vector__coords)"
      ]
    },
    {
      "cell_type": "code",
      "source": [
        "vec_1.__dict__"
      ],
      "metadata": {
        "colab": {
          "base_uri": "https://localhost:8080/"
        },
        "id": "L_JoGwVw4b1X",
        "outputId": "e1c3a88b-b664-465c-d6ca-aa3fd34250db"
      },
      "execution_count": null,
      "outputs": [
        {
          "output_type": "execute_result",
          "data": {
            "text/plain": [
              "{'_coords': [1, 2, 3], '_Vector__coords': [1, 2, 3]}"
            ]
          },
          "metadata": {},
          "execution_count": 16
        }
      ]
    },
    {
      "cell_type": "code",
      "source": [
        "vec_1"
      ],
      "metadata": {
        "id": "5TifUKzz1txv"
      },
      "execution_count": null,
      "outputs": []
    },
    {
      "cell_type": "markdown",
      "source": [
        "##Handle Hidden Attributes\n",
        "- As a developer, you still want to provide the users a handy interface to access the hidden attributes. Otherwise, they have to look up in the source code in order to figure out what the hidden attribue is.\n",
        "- This can be done with the `property` decorator. You can think about it as an attribute for users to access."
      ],
      "metadata": {
        "id": "iBYobkfD2COg"
      }
    },
    {
      "cell_type": "code",
      "source": [
        "class Vector(object):\n",
        "    def __init__(self, list_):\n",
        "        self._coords = list_\n",
        "        self.__coords = list_\n",
        "\n",
        "    @property\n",
        "    def coords(self):\n",
        "      return self.__coords\n",
        "\n",
        "    def length(self):\n",
        "        return sum([x**2 for x in self.__coords])**.5"
      ],
      "metadata": {
        "id": "6-Hpq0hT2OKz"
      },
      "execution_count": null,
      "outputs": []
    },
    {
      "cell_type": "code",
      "source": [
        "vec_1 = Vector([1,2,3])\n",
        "print(vec_1.coords)"
      ],
      "metadata": {
        "colab": {
          "base_uri": "https://localhost:8080/"
        },
        "id": "4MgnEedT4HCY",
        "outputId": "3802cd17-84f7-4fa5-ee20-d1b965c78156"
      },
      "execution_count": null,
      "outputs": [
        {
          "output_type": "stream",
          "name": "stdout",
          "text": [
            "[1, 2, 3]\n"
          ]
        }
      ]
    },
    {
      "cell_type": "code",
      "source": [
        "vec_1"
      ],
      "metadata": {
        "id": "SBdzoTKZ2fDJ"
      },
      "execution_count": null,
      "outputs": []
    },
    {
      "cell_type": "markdown",
      "source": [
        "- The good news about the `property` decorator is that users can only access the value through it, but not changing the value.\n",
        "- In this way, it **protects** the hidden attribute from the \"outside\""
      ],
      "metadata": {
        "id": "5E3PSN9V5_ZS"
      }
    },
    {
      "cell_type": "code",
      "source": [
        "vec_1.coords = [2,3,4]\n",
        "print(vec_1.coords)"
      ],
      "metadata": {
        "colab": {
          "base_uri": "https://localhost:8080/",
          "height": 183
        },
        "id": "ESFQb-Gj5_v-",
        "outputId": "5292b9fa-4578-440b-a543-699c91c2ef02"
      },
      "execution_count": null,
      "outputs": [
        {
          "output_type": "error",
          "ename": "AttributeError",
          "evalue": "ignored",
          "traceback": [
            "\u001b[0;31m---------------------------------------------------------------------------\u001b[0m",
            "\u001b[0;31mAttributeError\u001b[0m                            Traceback (most recent call last)",
            "\u001b[0;32m<ipython-input-20-82b468c54291>\u001b[0m in \u001b[0;36m<cell line: 1>\u001b[0;34m()\u001b[0m\n\u001b[0;32m----> 1\u001b[0;31m \u001b[0mvec_1\u001b[0m\u001b[0;34m.\u001b[0m\u001b[0mcoords\u001b[0m \u001b[0;34m=\u001b[0m \u001b[0;34m[\u001b[0m\u001b[0;36m2\u001b[0m\u001b[0;34m,\u001b[0m\u001b[0;36m3\u001b[0m\u001b[0;34m,\u001b[0m\u001b[0;36m4\u001b[0m\u001b[0;34m]\u001b[0m\u001b[0;34m\u001b[0m\u001b[0;34m\u001b[0m\u001b[0m\n\u001b[0m\u001b[1;32m      2\u001b[0m \u001b[0mprint\u001b[0m\u001b[0;34m(\u001b[0m\u001b[0mvec_1\u001b[0m\u001b[0;34m.\u001b[0m\u001b[0mcoords\u001b[0m\u001b[0;34m)\u001b[0m\u001b[0;34m\u001b[0m\u001b[0;34m\u001b[0m\u001b[0m\n",
            "\u001b[0;31mAttributeError\u001b[0m: can't set attribute 'coords'"
          ]
        }
      ]
    },
    {
      "cell_type": "markdown",
      "source": [
        "- If you do want people to update the hidden attribute, you can provide a setter for it."
      ],
      "metadata": {
        "id": "jieFW5QB7mwd"
      }
    },
    {
      "cell_type": "code",
      "source": [
        "class Vector(object):\n",
        "    def __init__(self, list_):\n",
        "        self._coords = list_\n",
        "        self.__coords = list_\n",
        "\n",
        "    @property\n",
        "    def coords(self):\n",
        "      return self.__coords\n",
        "\n",
        "    @coords.setter\n",
        "    def coords(self, new_coord):\n",
        "      self.__coords = new_coord\n",
        "\n",
        "    def length(self):\n",
        "        return sum([x**2 for x in self.__coords])**.5"
      ],
      "metadata": {
        "id": "2dKAl_tP59JR"
      },
      "execution_count": null,
      "outputs": []
    },
    {
      "cell_type": "code",
      "source": [
        "vec_1 = Vector([1,2,3])\n",
        "vec_1.coords = [2,3,4]\n",
        "print(vec_1.coords)"
      ],
      "metadata": {
        "colab": {
          "base_uri": "https://localhost:8080/"
        },
        "id": "m5-jDiGE5Nsw",
        "outputId": "4ccf58d2-51a3-42c1-b834-0352e4f5a391"
      },
      "execution_count": null,
      "outputs": [
        {
          "output_type": "stream",
          "name": "stdout",
          "text": [
            "[2, 3, 4]\n"
          ]
        }
      ]
    },
    {
      "cell_type": "markdown",
      "metadata": {
        "id": "Xz5yUg9qZXPl"
      },
      "source": [
        "<p><a name=\"special\"></a></p>\n",
        "\n",
        "## Special Name Method\n",
        "\n",
        "- In Python, a class can implement certain operations that are invoked by special syntax (such as arithmetic operations or subscripting) by defining methods with special names.\n",
        "- For example, the `__str__()` method is called by the `str()` built-in function and by the print statement to compute the string representation of an object. For E.g. add this method to `Vector`:"
      ]
    },
    {
      "cell_type": "code",
      "source": [
        "print(vec_1)"
      ],
      "metadata": {
        "colab": {
          "base_uri": "https://localhost:8080/"
        },
        "id": "Yy4sKRc8rqdE",
        "outputId": "fd737426-ed1d-4b32-e2a8-8a2b925629f2"
      },
      "execution_count": null,
      "outputs": [
        {
          "output_type": "stream",
          "name": "stdout",
          "text": [
            "<__main__.Vector object at 0x7f3be90e1330>\n"
          ]
        }
      ]
    },
    {
      "cell_type": "code",
      "source": [
        "print([1,2,3])"
      ],
      "metadata": {
        "colab": {
          "base_uri": "https://localhost:8080/"
        },
        "id": "qGT6ViIPKHNs",
        "outputId": "3a4df4da-b0c2-49bf-a2bb-732cf9bb046e"
      },
      "execution_count": null,
      "outputs": [
        {
          "output_type": "stream",
          "name": "stdout",
          "text": [
            "[1, 2, 3]\n"
          ]
        }
      ]
    },
    {
      "cell_type": "code",
      "execution_count": null,
      "metadata": {
        "collapsed": true,
        "id": "NNjqxnDhZXPl",
        "colab": {
          "base_uri": "https://localhost:8080/"
        },
        "outputId": "43633b86-f3bf-468b-e841-7ec7408aea96"
      },
      "outputs": [
        {
          "output_type": "stream",
          "name": "stdout",
          "text": [
            "Vector coords are [1, 2, 3]\n"
          ]
        }
      ],
      "source": [
        "class Vector(object):\n",
        "    def __init__(self, lis):\n",
        "        self.coords = lis\n",
        "\n",
        "    def length(self):\n",
        "        return sum([x**2 for x in self.coords])**.5\n",
        "    \n",
        "    def __str__(self):\n",
        "        return 'Vector coords are ' + str(self.coords)\n",
        "    \n",
        "# Then we print the Vector object:\n",
        "vec_1 = Vector([1,2,3])\n",
        "print(vec_1)"
      ]
    },
    {
      "cell_type": "markdown",
      "metadata": {
        "id": "IHbTdLhyZXPl"
      },
      "source": [
        "**Emulating numeric types**\n",
        "\n",
        "- For list objects, ‘+’ means to concatenate two lists.  For the Vector class we just created, we may want to do vector addition by using the expression u + v, where u and v are instances of Vector.\n",
        "- In python we can implement the `__add__()` method:"
      ]
    },
    {
      "cell_type": "code",
      "execution_count": null,
      "metadata": {
        "collapsed": true,
        "id": "QADm5q8_ZXPm"
      },
      "outputs": [],
      "source": [
        "class Vector(object):\n",
        "    def __init__(self, lis):\n",
        "        self.coords = lis\n",
        "\n",
        "    def length(self):\n",
        "        return sum([x**2 for x in self.coords])**.5\n",
        "    \n",
        "    def __str__(self):\n",
        "        return 'Vector' + str(self.coords)\n",
        "    \n",
        "    def __add__(self, other):\n",
        "        return Vector(list(map(lambda x, y: x+y, self.coords, other.coords)))"
      ]
    },
    {
      "cell_type": "markdown",
      "metadata": {
        "id": "sDfe_cfsZXPm"
      },
      "source": [
        "- Note that this method returns a new Vector object.  It is very common for non-mutating operations to return new objects in this way.\n",
        "\n",
        "- When we add two vector objects with ‘`+`’, `__add__()` is called:"
      ]
    },
    {
      "cell_type": "code",
      "execution_count": null,
      "metadata": {
        "collapsed": true,
        "id": "lz8n9EmIZXPm",
        "colab": {
          "base_uri": "https://localhost:8080/"
        },
        "outputId": "916a0028-ddca-4784-c64a-104c1f278c31"
      },
      "outputs": [
        {
          "output_type": "stream",
          "name": "stdout",
          "text": [
            "Vector[5, 7, 9]\n"
          ]
        }
      ],
      "source": [
        "u = Vector([1,2,3])\n",
        "v = Vector([4,5,6])\n",
        "w = u + v    # Python actually runs u.__add__(v)\n",
        "print(w)"
      ]
    },
    {
      "cell_type": "markdown",
      "metadata": {
        "id": "bcs5XpY6ZXPo"
      },
      "source": [
        "<p><a name=\"inheritance\"></a></p>\n",
        "\n",
        "## Inheritance\n",
        "\n",
        "- Inheritance is another important feature of object-oriented programming.\n",
        "- With inheritance, a class can be a “child” of another class, and inherit the attributes and methods of the class.\n",
        " - The “parent” is called the superclass or base class.\n",
        " - The “child” is the subclass or derived class.\n",
        "- Every class has a superclass; this is the name given in parentheses in the class definition:\n",
        "```\n",
        "class Vector(object):\n",
        "```\n",
        "- In Python, you should use the object as the base class if you don’t want to inherit from any other class. \n",
        "\n",
        "- To illustrate, we’ll start with a class called Book, representing a generic book, with a name and an author.  Its only operation is `__str__`."
      ]
    },
    {
      "cell_type": "code",
      "execution_count": null,
      "metadata": {
        "collapsed": true,
        "id": "JtsyLXhMZXPo"
      },
      "outputs": [],
      "source": [
        "class Book(object):\n",
        "    def __init__(self, name, author = None):\n",
        "        self.name = name\n",
        "        self.author = author\n",
        "    \n",
        "    def __str__(self):\n",
        "        return '<%s> by %s' % (self.name, self.author)"
      ]
    },
    {
      "cell_type": "markdown",
      "metadata": {
        "id": "QUFQFGuYZXPo"
      },
      "source": [
        "- We can use inheritance to create subclasses representing specific types of books, e.g. paper books, ebooks.\n",
        "\n",
        "- We’ll create a subclass for e-books.  Note that every class has to have an `__init__` function."
      ]
    },
    {
      "cell_type": "code",
      "execution_count": null,
      "metadata": {
        "collapsed": true,
        "id": "LzIQnt2uZXPp"
      },
      "outputs": [],
      "source": [
        "class EBook(Book):\n",
        "    def __init__(self, name, author = None):\n",
        "        Book.__init__(self, name, author)"
      ]
    },
    {
      "cell_type": "markdown",
      "metadata": {
        "id": "1lX1DRCtZXPp"
      },
      "source": [
        "- Several things to point out here:\n",
        "`EBook` is a subclass of Book, as shown in the first line.\n",
        "- `__init__` has the same arguments as Book’s `__init__`.  (We’ll add specialized methods soon.)\n",
        "- `EBook` inherits the attributes of Book.  It calls `Book.__init__` to initialize them.\n",
        "- `EBook` inherits the attributes and methods of `Book`.  From the definition above, `EBook` and `Book` do exactly the same things."
      ]
    },
    {
      "cell_type": "code",
      "execution_count": null,
      "metadata": {
        "collapsed": true,
        "id": "inbeTx8VZXPp",
        "colab": {
          "base_uri": "https://localhost:8080/"
        },
        "outputId": "7d3d2f59-e975-4892-b4f3-59bea011a001"
      },
      "outputs": [
        {
          "output_type": "stream",
          "name": "stdout",
          "text": [
            "<The little SAS book> by Lora D. Delwiche\n",
            "<R CookBook> by Paul Teetor\n"
          ]
        }
      ],
      "source": [
        "book_1 = Book('The little SAS book', 'Lora D. Delwiche')\n",
        "ebook_1 = EBook('R CookBook', 'Paul Teetor')\n",
        "print(book_1)\n",
        "print(ebook_1)        # inherited method from Book"
      ]
    },
    {
      "cell_type": "markdown",
      "source": [
        "- You can see here that even though we didn't define the `__str__` method in the `EBook` class, our `ebook_1` object still print the same format as `book_1`.\n",
        "- This is because of something called the **MRO** (method resolution order. **MRO** tells Python how to search for inherited methods."
      ],
      "metadata": {
        "id": "lpA-HavRFvh8"
      }
    },
    {
      "cell_type": "code",
      "source": [
        "EBook.__mro__"
      ],
      "metadata": {
        "colab": {
          "base_uri": "https://localhost:8080/"
        },
        "id": "JzXYDQmIFunE",
        "outputId": "7879207c-46e5-4a19-d415-d3958b7cc5f2"
      },
      "execution_count": null,
      "outputs": [
        {
          "output_type": "execute_result",
          "data": {
            "text/plain": [
              "(__main__.EBook, __main__.Book, object)"
            ]
          },
          "metadata": {},
          "execution_count": 32
        }
      ]
    },
    {
      "cell_type": "markdown",
      "metadata": {
        "id": "kHUCS71xZXPp"
      },
      "source": [
        "**Class Inheritance is a relationship**\n",
        "- The key point about inheritance is this:  A subclass can be used wherever its superclass could be used.  That’s because the subclass has all the methods of the superclass, so any client using the superclass can also use the subclass.\n",
        "- We say that an EBook “is a” Book, or, more generally, any object of a subclass is also an object of the superclass.  The way to think about inheritance is that derived classes define specialized instances of the base class.\n",
        "- There are several operations designed to let you understand the types of objects and the subclass relationships:\n",
        " - `type`:  This will give the actual type of an object."
      ]
    },
    {
      "cell_type": "code",
      "execution_count": null,
      "metadata": {
        "collapsed": true,
        "id": "PCKuLaz3ZXPq",
        "colab": {
          "base_uri": "https://localhost:8080/"
        },
        "outputId": "62390d90-1815-43f9-bde2-749caa54cd65"
      },
      "outputs": [
        {
          "output_type": "execute_result",
          "data": {
            "text/plain": [
              "__main__.Book"
            ]
          },
          "metadata": {},
          "execution_count": 33
        }
      ],
      "source": [
        "type(book_1)"
      ]
    },
    {
      "cell_type": "code",
      "execution_count": null,
      "metadata": {
        "id": "oftTZYSdZXPq",
        "colab": {
          "base_uri": "https://localhost:8080/"
        },
        "outputId": "63f4a8b4-4773-42ee-9cd4-1ccac28fad5e"
      },
      "outputs": [
        {
          "output_type": "execute_result",
          "data": {
            "text/plain": [
              "__main__.EBook"
            ]
          },
          "metadata": {},
          "execution_count": 34
        }
      ],
      "source": [
        "type(ebook_1)"
      ]
    },
    {
      "cell_type": "markdown",
      "metadata": {
        "id": "7DHeyBUOZXPq"
      },
      "source": [
        "- `issubclass`:  Check the relationship between two classes:"
      ]
    },
    {
      "cell_type": "code",
      "execution_count": null,
      "metadata": {
        "id": "pG1IVL99ZXPq",
        "colab": {
          "base_uri": "https://localhost:8080/"
        },
        "outputId": "b19c90d1-de08-499c-b0ec-87baae16d30f"
      },
      "outputs": [
        {
          "output_type": "execute_result",
          "data": {
            "text/plain": [
              "True"
            ]
          },
          "metadata": {},
          "execution_count": 35
        }
      ],
      "source": [
        "issubclass(EBook, Book)"
      ]
    },
    {
      "cell_type": "code",
      "execution_count": null,
      "metadata": {
        "id": "qPFaq-gqZXPr",
        "colab": {
          "base_uri": "https://localhost:8080/"
        },
        "outputId": "df604e42-f22c-44fb-f2ae-ee99a078ba27"
      },
      "outputs": [
        {
          "output_type": "execute_result",
          "data": {
            "text/plain": [
              "False"
            ]
          },
          "metadata": {},
          "execution_count": 36
        }
      ],
      "source": [
        "issubclass(Book, EBook)"
      ]
    },
    {
      "cell_type": "markdown",
      "metadata": {
        "id": "UaQq4P9lZXPr"
      },
      "source": [
        "- `isinstance`:  Checks if an object is an object of a class or of any of its subclasses."
      ]
    },
    {
      "cell_type": "code",
      "execution_count": null,
      "metadata": {
        "id": "9xl8jiNAZXPr",
        "colab": {
          "base_uri": "https://localhost:8080/"
        },
        "outputId": "993ffa90-ab84-4756-cf35-7fbf58e7e7b3"
      },
      "outputs": [
        {
          "output_type": "stream",
          "name": "stdout",
          "text": [
            "True\n"
          ]
        }
      ],
      "source": [
        "print(isinstance(ebook_1, Book))"
      ]
    },
    {
      "cell_type": "code",
      "execution_count": null,
      "metadata": {
        "id": "4bl79MVqZXPr",
        "colab": {
          "base_uri": "https://localhost:8080/"
        },
        "outputId": "7fb0d669-6e47-4bf6-f75a-aacce0695da0"
      },
      "outputs": [
        {
          "output_type": "stream",
          "name": "stdout",
          "text": [
            "True\n"
          ]
        }
      ],
      "source": [
        "print(isinstance(ebook_1, EBook))"
      ]
    },
    {
      "cell_type": "code",
      "execution_count": null,
      "metadata": {
        "id": "x8zZH-2_ZXPr",
        "colab": {
          "base_uri": "https://localhost:8080/"
        },
        "outputId": "4540e78e-9fa7-4cd1-a04b-b0951e62e2aa"
      },
      "outputs": [
        {
          "output_type": "stream",
          "name": "stdout",
          "text": [
            "True\n"
          ]
        }
      ],
      "source": [
        "print(isinstance(book_1, Book))"
      ]
    },
    {
      "cell_type": "code",
      "execution_count": null,
      "metadata": {
        "id": "rrYLTQJyZXPr",
        "colab": {
          "base_uri": "https://localhost:8080/"
        },
        "outputId": "94ac9e13-a6a9-4ab0-d2c8-86d61b987a3a"
      },
      "outputs": [
        {
          "output_type": "stream",
          "name": "stdout",
          "text": [
            "False\n"
          ]
        }
      ],
      "source": [
        "print(isinstance(book_1, EBook))"
      ]
    },
    {
      "cell_type": "markdown",
      "metadata": {
        "id": "7TlX0nI8ZXPr"
      },
      "source": [
        "- The first line above is the most interesting: `ebook_1` is considered an instance of Book even though it is actually an EBook object.\n",
        "- Note that subclasses can have subclasses. `isinstance(object, class)` will return true as long as object is in any descendant of class.\n",
        "- Derived classes can have their own attributes.  We can add a new attribute - format, which can be ‘pdf’, ‘kindle’, etc. - to EBook:"
      ]
    },
    {
      "cell_type": "code",
      "execution_count": null,
      "metadata": {
        "collapsed": true,
        "id": "UWzFV7h4ZXPt",
        "colab": {
          "base_uri": "https://localhost:8080/"
        },
        "outputId": "8baf81ba-33df-4acf-c73a-94ef6af1a964"
      },
      "outputs": [
        {
          "output_type": "stream",
          "name": "stdout",
          "text": [
            "pdf\n"
          ]
        }
      ],
      "source": [
        "class EBook(Book):\n",
        "    def __init__(self, name, fmt, author = None):\n",
        "        Book.__init__(self, name, author)\n",
        "        self.fmt = fmt\n",
        "\n",
        "    def get_fmt(self):\n",
        "        return self.fmt\n",
        "\n",
        "\n",
        "ebook_2 = EBook('R CookBook', 'pdf', 'Paul Teetor')\n",
        "print(ebook_2.get_fmt())"
      ]
    },
    {
      "cell_type": "code",
      "source": [
        "book_1.get_fmt()"
      ],
      "metadata": {
        "colab": {
          "base_uri": "https://localhost:8080/",
          "height": 166
        },
        "id": "ExSjv-I8_EKC",
        "outputId": "a4014395-7d80-4b7c-a4b0-6d119f5800d0"
      },
      "execution_count": null,
      "outputs": [
        {
          "output_type": "error",
          "ename": "AttributeError",
          "evalue": "ignored",
          "traceback": [
            "\u001b[0;31m---------------------------------------------------------------------------\u001b[0m",
            "\u001b[0;31mAttributeError\u001b[0m                            Traceback (most recent call last)",
            "\u001b[0;32m<ipython-input-43-a3e9c7e0a229>\u001b[0m in \u001b[0;36m<cell line: 1>\u001b[0;34m()\u001b[0m\n\u001b[0;32m----> 1\u001b[0;31m \u001b[0mbook_1\u001b[0m\u001b[0;34m.\u001b[0m\u001b[0mget_fmt\u001b[0m\u001b[0;34m(\u001b[0m\u001b[0;34m)\u001b[0m\u001b[0;34m\u001b[0m\u001b[0;34m\u001b[0m\u001b[0m\n\u001b[0m",
            "\u001b[0;31mAttributeError\u001b[0m: 'Book' object has no attribute 'get_fmt'"
          ]
        }
      ]
    },
    {
      "cell_type": "markdown",
      "metadata": {
        "id": "3LpSTE7uZXPt"
      },
      "source": [
        "- Book class already provides an `__str__()` method, but if we want EBook to do something different - say, to print the format as well we can rewrite the `__str__()` method. \n",
        "- This is called **method overriding**."
      ]
    },
    {
      "cell_type": "code",
      "execution_count": null,
      "metadata": {
        "collapsed": true,
        "id": "n6l5G6RmZXPu"
      },
      "outputs": [],
      "source": [
        "class EBook(Book):\n",
        "    def __init__(self, name, fmt, author = None):\n",
        "        Book.__init__(self, name, author)\n",
        "        self.fmt = fmt\n",
        "        \n",
        "        \n",
        "    def __str__(self):      # override __str__() method\n",
        "        return Book.__str__(self) + ', format: '+ self.fmt"
      ]
    },
    {
      "cell_type": "markdown",
      "metadata": {
        "id": "OcyDOZUZZXPu"
      },
      "source": [
        "When we call `__str__()`, it invokes the method from EBook:"
      ]
    },
    {
      "cell_type": "code",
      "execution_count": null,
      "metadata": {
        "collapsed": true,
        "id": "uT1gAtFOZXPv",
        "colab": {
          "base_uri": "https://localhost:8080/"
        },
        "outputId": "7afe9d47-cdb9-4109-b015-ab48b1ea43c4"
      },
      "outputs": [
        {
          "output_type": "stream",
          "name": "stdout",
          "text": [
            "<R CookBook> by Paul Teetor, format: pdf\n"
          ]
        }
      ],
      "source": [
        "ebook_3 = EBook('R CookBook', 'pdf', 'Paul Teetor')\n",
        "print(ebook_3)"
      ]
    },
    {
      "cell_type": "code",
      "source": [],
      "metadata": {
        "id": "lEdE1AiJOYwZ"
      },
      "execution_count": null,
      "outputs": []
    },
    {
      "cell_type": "markdown",
      "metadata": {
        "id": "yzQ8liUNZXPw"
      },
      "source": [
        "<p><a name=\"method\"></a></p>\n",
        "\n",
        "# Class Method vs Static Method"
      ]
    },
    {
      "cell_type": "markdown",
      "metadata": {
        "id": "yYcUyFcmZXPw"
      },
      "source": [
        "Let's assume an example of a class, dealing with date information "
      ]
    },
    {
      "cell_type": "code",
      "execution_count": null,
      "metadata": {
        "collapsed": true,
        "id": "TKClblI-ZXPx"
      },
      "outputs": [],
      "source": [
        "class Date(object):\n",
        "\n",
        "    def __init__(self, day = 0, month = 0, year = 0):\n",
        "        self.day = day\n",
        "        self.month = month\n",
        "        self.year = year"
      ]
    },
    {
      "cell_type": "markdown",
      "metadata": {
        "id": "ZxmCbeWAZXPx"
      },
      "source": [
        "- This class obviously could be used to store information about certain dates (without timezone information; let's assume all dates are presented in UTC).\n",
        "\n",
        "- Here we have `__init__`, a typical initializer of Python class instances, which receives arguments as a typical instance method, having the first **non-optional** argument (self) that references to a newly created instance."
      ]
    },
    {
      "cell_type": "markdown",
      "metadata": {
        "id": "a4v1vSPTZXPy"
      },
      "source": [
        "## Class Method\n",
        "\n",
        "- We have some tasks that can be nicely done using class methods.\n",
        "\n",
        "- Let's assume that we want to create a lot of Date class instances having date information coming from the outer source encoded as a string of the next format ('dd-mm-yyyy'). We have to do that in different places of our source code in the project.\n",
        "\n",
        "- So what we must do here is:\n",
        " - Parse a string to receive a day, month, and year as three integer variables or a 3-item tuple consisting of that variable.\n",
        " - Instantiate Date by passing those values to the initialization call."
      ]
    },
    {
      "cell_type": "code",
      "execution_count": null,
      "metadata": {
        "collapsed": true,
        "id": "1v1_kneyZXPy"
      },
      "outputs": [],
      "source": [
        "string_date = '23-08-1990'\n",
        "day, month, year = map(int, string_date.split('-'))\n",
        "date1 = Date(day, month, year)"
      ]
    },
    {
      "cell_type": "code",
      "execution_count": null,
      "metadata": {
        "collapsed": true,
        "id": "FQIUCJG9ZXPy",
        "colab": {
          "base_uri": "https://localhost:8080/"
        },
        "outputId": "4955a676-407e-4849-8b9e-38819e719b11"
      },
      "outputs": [
        {
          "output_type": "execute_result",
          "data": {
            "text/plain": [
              "23"
            ]
          },
          "metadata": {},
          "execution_count": 50
        }
      ],
      "source": [
        "date1.day"
      ]
    },
    {
      "cell_type": "markdown",
      "metadata": {
        "id": "Hpfwe841ZXPy"
      },
      "source": [
        "For this purpose, C++ has such feature as overloading, but Python lacks that feature - so here's when classmethod applies. Lets create another \"constructor\"."
      ]
    },
    {
      "cell_type": "code",
      "execution_count": null,
      "metadata": {
        "collapsed": true,
        "id": "6-_azSVxZXPz"
      },
      "outputs": [],
      "source": [
        "class Date(object):\n",
        "\n",
        "    def __init__(self, day = 0, month = 0, year = 0):\n",
        "        self.day = day\n",
        "        self.month = month\n",
        "        self.year = year\n",
        "        \n",
        "    \n",
        "    @classmethod\n",
        "    def from_string(cls, date_as_string):\n",
        "        '''\n",
        "        This function takes a string as input and returns a Date object.\n",
        "        The input string needs to follow the format of 'dd-mm-yyyy'\n",
        "        '''\n",
        "        day, month, year = list(map(int, date_as_string.split('-')))\n",
        "        date1 = cls(day, month, year)\n",
        "        return date1\n",
        "        \n",
        "# usage\n",
        "date2 = Date.from_string('23-08-1990')"
      ]
    },
    {
      "cell_type": "markdown",
      "metadata": {
        "id": "4oEZD0rqZXPz"
      },
      "source": [
        "Let's look more carefully at the above implementation, and review what advantages we have here:\n",
        "\n",
        "- We've implemented date string parsing in one place and it's reusable now.\n",
        "- @classmethod is a special syntax sugar called [decorator](https://realpython.com/blog/python/primer-on-python-decorators/) in Python. \n",
        "- Decorator takes a function as an input and returns the modified function as the output. i.e. convert the `from_string` function to a class method.\n",
        "- cls is an object that holds **class itself**, not an instance of the class. It's pretty cool because if we inherit our Date class, all children will have from_string defined also."
      ]
    },
    {
      "cell_type": "markdown",
      "metadata": {
        "id": "OkwVWS77ZXPz"
      },
      "source": [
        "## Static method\n",
        "\n",
        "- What about staticmethod? It's pretty similar to classmethod but doesn't take any obligatory parameters.\n",
        "\n",
        "- Let's look at the next use case.\n",
        "\n",
        " - We have a date string that we want to validate somehow. This task is also logically bound to Date class we've used so far, but still doesn't require instantiation of it.\n",
        "\n",
        "- Here is where staticmethod can be useful. Let's look at the next piece of code:"
      ]
    },
    {
      "cell_type": "code",
      "execution_count": null,
      "metadata": {
        "collapsed": true,
        "id": "yM7XdrboZXP0",
        "colab": {
          "base_uri": "https://localhost:8080/"
        },
        "outputId": "65723fdc-2495-4cbb-ee63-a3a8da709004"
      },
      "outputs": [
        {
          "output_type": "execute_result",
          "data": {
            "text/plain": [
              "False"
            ]
          },
          "metadata": {},
          "execution_count": 52
        }
      ],
      "source": [
        "class Date(object):\n",
        "    \n",
        "    def __init__(self, day=0, month=0, year=0):\n",
        "        self.day = day\n",
        "        self.month = month\n",
        "        self.year = year\n",
        "        \n",
        "    @classmethod\n",
        "    def from_string(cls, date_as_string):\n",
        "        '''\n",
        "        This function takes a string as input and returns a Date object.\n",
        "        The input string needs to follow the format of 'dd-mm-yyyy'\n",
        "        '''\n",
        "        day, month, year = list(map(int, date_as_string.split('-')))\n",
        "        date1 = cls(day, month, year)\n",
        "        return date1\n",
        "    \n",
        "    @staticmethod\n",
        "    def is_date_valid(date_as_string):\n",
        "        '''\n",
        "        This function will check whether the input date is valid or not.\n",
        "        The input string needs to follow the format of 'dd-mm-yyyy'\n",
        "        A valid date needs to have dd <=32 month <=12 and year <= 3999\n",
        "        '''\n",
        "        day, month, year = list(map(int, date_as_string.split('-')))\n",
        "        return day <= 31 and month <= 12 and year <= 3999\n",
        "\n",
        "# usage:\n",
        "Date.is_date_valid('08-34-1990')"
      ]
    },
    {
      "cell_type": "markdown",
      "metadata": {
        "id": "7cxJERPzZXP0"
      },
      "source": [
        "- As we can see from the usage of staticmethod, we don't have any access to what the class is - it's basically just a function, called syntactically like a method, but without access to the object and its internals (fields and another methods), while classmethod does."
      ]
    },
    {
      "cell_type": "code",
      "source": [],
      "metadata": {
        "id": "zlq16Q528Egv"
      },
      "execution_count": null,
      "outputs": []
    }
  ],
  "metadata": {
    "anaconda-cloud": {},
    "kernelspec": {
      "display_name": "Python 3",
      "language": "python",
      "name": "python3"
    },
    "language_info": {
      "codemirror_mode": {
        "name": "ipython",
        "version": 3
      },
      "file_extension": ".py",
      "mimetype": "text/x-python",
      "name": "python",
      "nbconvert_exporter": "python",
      "pygments_lexer": "ipython3",
      "version": "3.8.8"
    },
    "colab": {
      "provenance": [],
      "include_colab_link": true
    }
  },
  "nbformat": 4,
  "nbformat_minor": 0
}